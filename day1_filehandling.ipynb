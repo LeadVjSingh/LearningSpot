{
  "nbformat": 4,
  "nbformat_minor": 0,
  "metadata": {
    "colab": {
      "provenance": [],
      "include_colab_link": true
    },
    "kernelspec": {
      "name": "python3",
      "display_name": "Python 3"
    },
    "language_info": {
      "name": "python"
    }
  },
  "cells": [
    {
      "cell_type": "markdown",
      "metadata": {
        "id": "view-in-github",
        "colab_type": "text"
      },
      "source": [
        "<a href=\"https://colab.research.google.com/github/LeadVjSingh/LearningSpot/blob/main/day1_filehandling.ipynb\" target=\"_parent\"><img src=\"https://colab.research.google.com/assets/colab-badge.svg\" alt=\"Open In Colab\"/></a>"
      ]
    },
    {
      "cell_type": "code",
      "execution_count": null,
      "metadata": {
        "id": "2e8MQAkenGOv",
        "colab": {
          "base_uri": "https://localhost:8080/"
        },
        "outputId": "c7b494dd-bf6d-49d0-e946-bc5474230a2b"
      },
      "outputs": [
        {
          "output_type": "stream",
          "name": "stdout",
          "text": [
            "Python file handling\n"
          ]
        }
      ],
      "source": [
        "print('Python file handling')"
      ]
    },
    {
      "cell_type": "code",
      "source": [
        "text = 'NttData'\n",
        "\n",
        "f = open(\"aaa.txt\", \"w\")\n",
        "\n",
        "f.write(text)\n",
        "f.close()"
      ],
      "metadata": {
        "id": "2VwD-cpnu-j9"
      },
      "execution_count": 2,
      "outputs": []
    },
    {
      "cell_type": "code",
      "source": [
        "f1 = open('aaa.txt', 'r')\n",
        "data = f1.read()\n",
        "print(data)\n",
        "f1.close()"
      ],
      "metadata": {
        "colab": {
          "base_uri": "https://localhost:8080/"
        },
        "id": "VoVaKhlgwWzo",
        "outputId": "a1093c78-b866-4268-8831-e8c765415c0a"
      },
      "execution_count": 3,
      "outputs": [
        {
          "output_type": "stream",
          "name": "stdout",
          "text": [
            "NttData\n"
          ]
        }
      ]
    },
    {
      "cell_type": "code",
      "source": [
        "f1 = open('aaa.txt', 'r')\n",
        "data = f1.read(3)\n",
        "print(data)\n",
        "f1.close()"
      ],
      "metadata": {
        "id": "Q1X9hMOD6ztt",
        "outputId": "2d8671e2-63d5-4f72-b88f-d67367c64998",
        "colab": {
          "base_uri": "https://localhost:8080/"
        }
      },
      "execution_count": 4,
      "outputs": [
        {
          "output_type": "stream",
          "name": "stdout",
          "text": [
            "Ntt\n"
          ]
        }
      ]
    },
    {
      "cell_type": "code",
      "source": [
        "text = 'NttData jai shree ram \\n hello missra ji'\n",
        "\n",
        "f = open(\"aaa.txt\", \"w\")\n",
        "\n",
        "f.write(text)\n",
        "print(data)\n",
        "f.close()"
      ],
      "metadata": {
        "id": "fMq_Q50N8wyb",
        "outputId": "8ad50821-ad8c-4b84-f316-85f2b6df6643",
        "colab": {
          "base_uri": "https://localhost:8080/"
        }
      },
      "execution_count": 12,
      "outputs": [
        {
          "output_type": "stream",
          "name": "stdout",
          "text": [
            "NttData jai shree ram \n",
            "\n"
          ]
        }
      ]
    },
    {
      "cell_type": "code",
      "source": [
        "f1 = open('aaa.txt', 'r')\n",
        "data = f1.readline()\n",
        "print(data)\n",
        "f1.close()"
      ],
      "metadata": {
        "id": "3LPr67vw87lp",
        "outputId": "60dd9e68-0da8-4a42-9a39-b23bdb2df12d",
        "colab": {
          "base_uri": "https://localhost:8080/"
        }
      },
      "execution_count": 13,
      "outputs": [
        {
          "output_type": "stream",
          "name": "stdout",
          "text": [
            "NttData jai shree ram \n",
            "\n"
          ]
        }
      ]
    }
  ]
}