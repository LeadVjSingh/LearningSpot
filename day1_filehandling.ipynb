{
  "nbformat": 4,
  "nbformat_minor": 0,
  "metadata": {
    "colab": {
      "provenance": [],
      "include_colab_link": true
    },
    "kernelspec": {
      "name": "python3",
      "display_name": "Python 3"
    },
    "language_info": {
      "name": "python"
    }
  },
  "cells": [
    {
      "cell_type": "markdown",
      "metadata": {
        "id": "view-in-github",
        "colab_type": "text"
      },
      "source": [
        "<a href=\"https://colab.research.google.com/github/LeadVjSingh/LearningSpot/blob/main/day1_filehandling.ipynb\" target=\"_parent\"><img src=\"https://colab.research.google.com/assets/colab-badge.svg\" alt=\"Open In Colab\"/></a>"
      ]
    },
    {
      "cell_type": "code",
      "execution_count": null,
      "metadata": {
        "id": "2e8MQAkenGOv",
        "colab": {
          "base_uri": "https://localhost:8080/"
        },
        "outputId": "c7b494dd-bf6d-49d0-e946-bc5474230a2b"
      },
      "outputs": [
        {
          "output_type": "stream",
          "name": "stdout",
          "text": [
            "Python file handling\n"
          ]
        }
      ],
      "source": [
        "print('Python file handling')"
      ]
    },
    {
      "cell_type": "code",
      "source": [
        "text = 'NttData'\n",
        "\n",
        "f = open(\"aaa.txt\", \"w\")\n",
        "\n",
        "f.write(text)\n",
        "f.close()"
      ],
      "metadata": {
        "id": "2VwD-cpnu-j9"
      },
      "execution_count": 2,
      "outputs": []
    },
    {
      "cell_type": "code",
      "source": [
        "f1 = open('aaa.txt', 'r')\n",
        "data = f1.read()\n",
        "print(data)\n",
        "f1.close()"
      ],
      "metadata": {
        "colab": {
          "base_uri": "https://localhost:8080/"
        },
        "id": "VoVaKhlgwWzo",
        "outputId": "a1093c78-b866-4268-8831-e8c765415c0a"
      },
      "execution_count": 3,
      "outputs": [
        {
          "output_type": "stream",
          "name": "stdout",
          "text": [
            "NttData\n"
          ]
        }
      ]
    },
    {
      "cell_type": "code",
      "source": [
        "f1 = open('aaa.txt', 'r')\n",
        "data = f1.read(3)\n",
        "print(data)\n",
        "f1.close()"
      ],
      "metadata": {
        "colab": {
          "base_uri": "https://localhost:8080/"
        },
        "id": "Q1X9hMOD6ztt",
        "outputId": "2d8671e2-63d5-4f72-b88f-d67367c64998"
      },
      "execution_count": 4,
      "outputs": [
        {
          "output_type": "stream",
          "name": "stdout",
          "text": [
            "Ntt\n"
          ]
        }
      ]
    },
    {
      "cell_type": "code",
      "source": [
        "text = 'NttData jai shree ram \\n hello missra ji \\n AI/ML DEVELOPER'\n",
        "\n",
        "f = open(\"aaa.txt\", \"w\")\n",
        "\n",
        "f.write(text)\n",
        "print(data)\n",
        "f.close()"
      ],
      "metadata": {
        "colab": {
          "base_uri": "https://localhost:8080/"
        },
        "id": "fMq_Q50N8wyb",
        "outputId": "0e64c03d-eb26-437e-b38a-a111bd1f7c95"
      },
      "execution_count": 19,
      "outputs": [
        {
          "output_type": "stream",
          "name": "stdout",
          "text": [
            "NttData jai shree ram \n",
            "\n"
          ]
        }
      ]
    },
    {
      "cell_type": "code",
      "source": [
        "f1 = open('aaa.txt', 'r')\n",
        "data = f1.readline()\n",
        "data1 = f1.readline()\n",
        "print(data1)\n",
        "f1.close()"
      ],
      "metadata": {
        "colab": {
          "base_uri": "https://localhost:8080/"
        },
        "id": "3LPr67vw87lp",
        "outputId": "318c123b-254a-4fb8-87b5-091eed78f75b"
      },
      "execution_count": 14,
      "outputs": [
        {
          "output_type": "stream",
          "name": "stdout",
          "text": [
            " hello missra ji\n"
          ]
        }
      ]
    },
    {
      "cell_type": "code",
      "source": [
        "f1 = open('aaa.txt', 'r')\n",
        "data = f1.readline()\n",
        "data1 = f1.readline()\n",
        "data2 = f1.readline()\n",
        "print(data,end='')\n",
        "print(data1)\n",
        "print(data2, end='')\n",
        "f1.close()"
      ],
      "metadata": {
        "colab": {
          "base_uri": "https://localhost:8080/"
        },
        "id": "FxfxnSFj9dLn",
        "outputId": "16942eea-56f4-42ca-8bd1-4d0d3b5c30cc"
      },
      "execution_count": 24,
      "outputs": [
        {
          "output_type": "stream",
          "name": "stdout",
          "text": [
            "NttData jai shree ram \n",
            " hello missra ji \n",
            "\n",
            " AI/ML DEVELOPER"
          ]
        }
      ]
    },
    {
      "cell_type": "code",
      "source": [
        "f1 = open('aaa.txt', 'r')\n",
        "data = f1.readline(3)\n",
        "data1 = f1.readline()\n",
        "data2 = f1.readline()\n",
        "print(data)\n",
        "print(data1)\n",
        "print(data2, end='')\n",
        "f1.close()"
      ],
      "metadata": {
        "colab": {
          "base_uri": "https://localhost:8080/"
        },
        "id": "7Xa-BnkT-PT2",
        "outputId": "ba72bfe3-f34d-4d3b-e2cd-70fbb4888902"
      },
      "execution_count": 26,
      "outputs": [
        {
          "output_type": "stream",
          "name": "stdout",
          "text": [
            "Ntt\n",
            "Data jai shree ram \n",
            "\n",
            " hello missra ji \n"
          ]
        }
      ]
    },
    {
      "cell_type": "code",
      "source": [
        "f1 = open('aaa.txt', 'r')\n",
        "data = f1.readlines()\n",
        "\n",
        "print(data)\n",
        "\n",
        "f1.close()"
      ],
      "metadata": {
        "colab": {
          "base_uri": "https://localhost:8080/"
        },
        "id": "2lXXLNh8Bh3M",
        "outputId": "97785315-23ed-491b-fa55-444f2adcecc6"
      },
      "execution_count": 28,
      "outputs": [
        {
          "output_type": "stream",
          "name": "stdout",
          "text": [
            "['NttData jai shree ram \\n', ' hello missra ji \\n', ' AI/ML DEVELOPER']\n"
          ]
        }
      ]
    },
    {
      "cell_type": "code",
      "source": [
        "# pceb in learn feast earn it"
      ],
      "metadata": {
        "id": "IIXCjdeIB0Pd"
      },
      "execution_count": null,
      "outputs": []
    }
  ]
}